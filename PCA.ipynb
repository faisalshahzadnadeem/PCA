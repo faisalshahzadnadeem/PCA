{
  "nbformat": 4,
  "nbformat_minor": 0,
  "metadata": {
    "colab": {
      "provenance": []
    },
    "kernelspec": {
      "name": "python3",
      "display_name": "Python 3"
    },
    "language_info": {
      "name": "python"
    }
  },
  "cells": [
    {
      "cell_type": "code",
      "execution_count": 1,
      "metadata": {
        "colab": {
          "base_uri": "https://localhost:8080/"
        },
        "id": "95JESEnOxUBq",
        "outputId": "e5953636-7a73-4e6e-9c56-e3361bf9e742"
      },
      "outputs": [
        {
          "output_type": "stream",
          "name": "stderr",
          "text": [
            "<ipython-input-1-bf4f25cf768e>:25: SettingWithCopyWarning: \n",
            "A value is trying to be set on a copy of a slice from a DataFrame.\n",
            "Try using .loc[row_indexer,col_indexer] = value instead\n",
            "\n",
            "See the caveats in the documentation: https://pandas.pydata.org/pandas-docs/stable/user_guide/indexing.html#returning-a-view-versus-a-copy\n",
            "  df[col] = label_enc.fit_transform(df[col])\n",
            "<ipython-input-1-bf4f25cf768e>:25: SettingWithCopyWarning: \n",
            "A value is trying to be set on a copy of a slice from a DataFrame.\n",
            "Try using .loc[row_indexer,col_indexer] = value instead\n",
            "\n",
            "See the caveats in the documentation: https://pandas.pydata.org/pandas-docs/stable/user_guide/indexing.html#returning-a-view-versus-a-copy\n",
            "  df[col] = label_enc.fit_transform(df[col])\n"
          ]
        },
        {
          "output_type": "stream",
          "name": "stdout",
          "text": [
            "Accuracy of SVM: 0.8778\n",
            "Accuracy of Logistic Regression: 0.8833\n",
            "Accuracy of Random Forest: 0.8833\n",
            "Accuracy of SVM after PCA: 0.8778\n",
            "Accuracy of Logistic Regression after PCA: 0.8889\n",
            "Accuracy of Random Forest after PCA: 0.8667\n"
          ]
        }
      ],
      "source": [
        "import pandas as pd\n",
        "import numpy as np\n",
        "from scipy.stats import zscore\n",
        "from sklearn.preprocessing import LabelEncoder, StandardScaler, OneHotEncoder\n",
        "from sklearn.model_selection import train_test_split\n",
        "from sklearn.svm import SVC\n",
        "from sklearn.linear_model import LogisticRegression\n",
        "from sklearn.ensemble import RandomForestClassifier\n",
        "from sklearn.metrics import accuracy_score\n",
        "from sklearn.decomposition import PCA\n",
        "\n",
        "# 1. Load heart disease dataset\n",
        "url = 'https://raw.githubusercontent.com/codebasics/py/master/ML/18_PCA/Exercise/heart.csv'\n",
        "df = pd.read_csv(url)\n",
        "\n",
        "# 2. Remove outliers using Z score\n",
        "z_scores = np.abs(zscore(df.select_dtypes(include=[np.number])))\n",
        "df = df[(z_scores < 3).all(axis=1)]\n",
        "\n",
        "# 3. Convert text columns to numbers\n",
        "# Label Encoding for binary categorical variables\n",
        "label_enc = LabelEncoder()\n",
        "binary_cols = ['Sex', 'ExerciseAngina']  # Example of binary columns\n",
        "for col in binary_cols:\n",
        "    df[col] = label_enc.fit_transform(df[col])\n",
        "\n",
        "# One Hot Encoding for other categorical variables\n",
        "df = pd.get_dummies(df, columns=['ChestPainType', 'RestingECG', 'ST_Slope'])\n",
        "\n",
        "# 4. Apply scaling\n",
        "scaler = StandardScaler()\n",
        "scaled_features = scaler.fit_transform(df.drop('HeartDisease', axis=1))\n",
        "X = pd.DataFrame(scaled_features, columns=df.drop('HeartDisease', axis=1).columns)\n",
        "y = df['HeartDisease']\n",
        "\n",
        "# Split the data into train and test sets\n",
        "X_train, X_test, y_train, y_test = train_test_split(X, y, test_size=0.2, random_state=42)\n",
        "\n",
        "# 5. Build classification models\n",
        "models = {\n",
        "    'SVM': SVC(),\n",
        "    'Logistic Regression': LogisticRegression(max_iter=1000),\n",
        "    'Random Forest': RandomForestClassifier()\n",
        "}\n",
        "\n",
        "# Train and evaluate each model\n",
        "for name, model in models.items():\n",
        "    model.fit(X_train, y_train)\n",
        "    y_pred = model.predict(X_test)\n",
        "    accuracy = accuracy_score(y_test, y_pred)\n",
        "    print(f'Accuracy of {name}: {accuracy:.4f}')\n",
        "\n",
        "# 6. Apply PCA and retrain models\n",
        "pca = PCA(n_components=0.95)  # Keep 95% of the variance\n",
        "X_train_pca = pca.fit_transform(X_train)\n",
        "X_test_pca = pca.transform(X_test)\n",
        "\n",
        "for name, model in models.items():\n",
        "    model.fit(X_train_pca, y_train)\n",
        "    y_pred = model.predict(X_test_pca)\n",
        "    accuracy = accuracy_score(y_test, y_pred)\n",
        "    print(f'Accuracy of {name} after PCA: {accuracy:.4f}')\n"
      ]
    }
  ]
}